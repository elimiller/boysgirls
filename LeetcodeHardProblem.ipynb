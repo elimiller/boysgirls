{
  "nbformat": 4,
  "nbformat_minor": 0,
  "metadata": {
    "colab": {
      "provenance": [],
      "authorship_tag": "ABX9TyO1IhIWBIkyiZ1tmNZCjca7",
      "include_colab_link": true
    },
    "kernelspec": {
      "name": "python3",
      "display_name": "Python 3"
    },
    "language_info": {
      "name": "python"
    }
  },
  "cells": [
    {
      "cell_type": "markdown",
      "metadata": {
        "id": "view-in-github",
        "colab_type": "text"
      },
      "source": [
        "<a href=\"https://colab.research.google.com/github/elimiller/boysgirls/blob/master/LeetcodeHardProblem.ipynb\" target=\"_parent\"><img src=\"https://colab.research.google.com/assets/colab-badge.svg\" alt=\"Open In Colab\"/></a>"
      ]
    },
    {
      "cell_type": "code",
      "execution_count": 43,
      "metadata": {
        "id": "vMhAqJ5AdpZe"
      },
      "outputs": [],
      "source": [
        "def isMatch(s,p):\n",
        "  if p.find('*') != -1:\n",
        "    return True\n",
        "  elif len(s) !=  len(p):\n",
        "    return False\n",
        "  else:\n",
        "    for i in range(len(s)):\n",
        "      if s[i] != p[i] and p[i] != '?':\n",
        "        return False\n",
        "\n",
        ""
      ]
    },
    {
      "cell_type": "code",
      "source": [
        "s = \"\""
      ],
      "metadata": {
        "id": "Zre6T0LGeWUH"
      },
      "execution_count": 45,
      "outputs": []
    },
    {
      "cell_type": "code",
      "source": [
        "p = \"\""
      ],
      "metadata": {
        "id": "qPP1vWbMepkR"
      },
      "execution_count": 46,
      "outputs": []
    },
    {
      "cell_type": "code",
      "source": [
        "isMatch(s,p)"
      ],
      "metadata": {
        "id": "uJwiByKSesSn"
      },
      "execution_count": 48,
      "outputs": []
    },
    {
      "cell_type": "code",
      "source": [
        "stringtest = 'hidadvjnifdsinvo'"
      ],
      "metadata": {
        "id": "_xq_3tNjeuD1"
      },
      "execution_count": 28,
      "outputs": []
    },
    {
      "cell_type": "code",
      "source": [
        "stringtest.find('vo')"
      ],
      "metadata": {
        "colab": {
          "base_uri": "https://localhost:8080/"
        },
        "id": "Ed-4PVKQf3_r",
        "outputId": "c30439f5-71b9-4f25-b588-1be0a694c7fb"
      },
      "execution_count": 29,
      "outputs": [
        {
          "output_type": "execute_result",
          "data": {
            "text/plain": [
              "14"
            ]
          },
          "metadata": {},
          "execution_count": 29
        }
      ]
    },
    {
      "cell_type": "code",
      "source": [],
      "metadata": {
        "id": "xlnBcDIDgfp4"
      },
      "execution_count": 42,
      "outputs": []
    },
    {
      "cell_type": "code",
      "source": [],
      "metadata": {
        "id": "5Uofi12Xk-fE"
      },
      "execution_count": null,
      "outputs": []
    }
  ]
}